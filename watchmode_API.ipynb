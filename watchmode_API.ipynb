{
 "cells": [
  {
   "cell_type": "code",
   "execution_count": 1,
   "metadata": {},
   "outputs": [],
   "source": [
    "import requests\n",
    "import pandas as pd\n",
    "import os\n",
    "from dotenv import load_dotenv\n",
    "import json"
   ]
  },
  {
   "cell_type": "code",
   "execution_count": 2,
   "metadata": {},
   "outputs": [],
   "source": [
    "load_dotenv()\n",
    "api_key = os.getenv('WATCHMODE_API_KEY')"
   ]
  },
  {
   "cell_type": "code",
   "execution_count": null,
   "metadata": {},
   "outputs": [],
   "source": [
    "\"\"\" Find and grab the Horror genre id. \"\"\"\n",
    "url = 'https://api.watchmode.com/v1/genres'\n",
    "params = {'apiKey': api_key}\n",
    "response = requests.get(url, params=params)\n",
    "genres = response.json()\n",
    "genres"
   ]
  },
  {
   "cell_type": "code",
   "execution_count": 31,
   "metadata": {},
   "outputs": [
    {
     "name": "stdout",
     "output_type": "stream",
     "text": [
      "Title ID: 1498670\n",
      "Title: Nosferatu\n",
      "Year: 2024\n",
      "User Rating: 7\n",
      "Critic Rating: 81\n",
      "Plot Overview: A gothic tale of obsession between a haunted young woman and the terrifying vampire infatuated with her, causing untold horror in its wake.\n",
      "\n",
      "Title ID: 1674882\n",
      "Title: The Substance\n",
      "Year: 2024\n",
      "User Rating: 7.2\n",
      "Critic Rating: 84\n",
      "Plot Overview: A fading celebrity decides to use a black market drug, a cell-replicating substance that temporarily creates a younger, better version of herself.\n",
      "\n",
      "Title ID: 1678919\n",
      "Title: Alien: Romulus\n",
      "Year: 2024\n",
      "User Rating: 7.3\n",
      "Critic Rating: 72\n",
      "Plot Overview: While scavenging the deep ends of a derelict space station, a group of young space colonizers come face to face with the most terrifying life form in the universe.\n",
      "\n"
     ]
    }
   ],
   "source": [
    "# Grab the first page of horror movies.\n",
    "url = 'https://api.watchmode.com/v1/list-titles'\n",
    "params = {\n",
    "    'apiKey': api_key,\n",
    "    'genres': 11,\n",
    "    'types': 'movie',\n",
    "    'page': 1\n",
    "}\n",
    "\n",
    "response = requests.get(url, params=params)\n",
    "data = response.json()\n",
    "\n",
    "# Filter for movies released between 2021 through 2024.\n",
    "filtered_titles = [\n",
    "    title for title in data.get('titles', [])\n",
    "    if 2020 <= title.get('year', 0) <= 2024\n",
    "][:3]\n",
    "\n",
    "# Grab details for each filtered movie.\n",
    "details_url_template = 'https://api.watchmode.com/v1/title/{}/details/'\n",
    "results = []\n",
    "\n",
    "for title in filtered_titles:\n",
    "    title_id = title['id']\n",
    "    title_name = title['title']\n",
    "    release_year = title.get('year')\n",
    "\n",
    "    details_url = details_url_template.format(title_id)\n",
    "    detail_params = {'apiKey': api_key}\n",
    "    detail_response = requests.get(details_url, params=detail_params)\n",
    "    detail_data = detail_response.json()\n",
    "\n",
    "    result = {\n",
    "        'title_id': title_id,\n",
    "        'title': title_name,\n",
    "        'year': release_year,\n",
    "        'user_rating': detail_data.get('user_rating'),\n",
    "        'critic_rating': detail_data.get('critic_score'),\n",
    "        'plot_overview': detail_data.get('plot_overview'),\n",
    "    }\n",
    "    results.append(result)\n",
    "\n",
    "# Build the DataFrame\n",
    "df = pd.DataFrame(results, columns=['title_id','title','year','user_rating','critic_rating','plot_overview'])\n",
    "\n",
    "# Print the results.\n",
    "for item in results:\n",
    "    print(f\"Title ID: {item['title_id']}\")\n",
    "    print(f\"Title: {item['title']}\")\n",
    "    print(f\"Year: {item['year']}\")\n",
    "    print(f\"User Rating: {item['user_rating']}\")\n",
    "    print(f\"Critic Rating: {item['critic_rating']}\")\n",
    "    print(f\"Plot Overview: {item['plot_overview']}\\n\")"
   ]
  },
  {
   "cell_type": "code",
   "execution_count": 32,
   "metadata": {},
   "outputs": [
    {
     "name": "stdout",
     "output_type": "stream",
     "text": [
      "   title_id           title  year  user_rating  critic_rating  \\\n",
      "0   1498670       Nosferatu  2024          7.0             81   \n",
      "1   1674882   The Substance  2024          7.2             84   \n",
      "2   1678919  Alien: Romulus  2024          7.3             72   \n",
      "\n",
      "                                       plot_overview  \n",
      "0  A gothic tale of obsession between a haunted y...  \n",
      "1  A fading celebrity decides to use a black mark...  \n",
      "2  While scavenging the deep ends of a derelict s...  \n"
     ]
    }
   ],
   "source": [
    "print(df)"
   ]
  },
  {
   "cell_type": "code",
   "execution_count": null,
   "metadata": {},
   "outputs": [],
   "source": []
  }
 ],
 "metadata": {
  "kernelspec": {
   "display_name": "Entertainment_Project",
   "language": "python",
   "name": "python3"
  },
  "language_info": {
   "codemirror_mode": {
    "name": "ipython",
    "version": 3
   },
   "file_extension": ".py",
   "mimetype": "text/x-python",
   "name": "python",
   "nbconvert_exporter": "python",
   "pygments_lexer": "ipython3",
   "version": "3.13.2"
  }
 },
 "nbformat": 4,
 "nbformat_minor": 2
}
